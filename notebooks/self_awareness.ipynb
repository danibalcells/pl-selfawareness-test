{
 "cells": [
  {
   "cell_type": "markdown",
   "metadata": {},
   "source": [
    "# LLM Self-Awareness Evaluation"
   ]
  },
  {
   "cell_type": "markdown",
   "metadata": {},
   "source": [
    "## Conversational eval framework"
   ]
  },
  {
   "cell_type": "code",
   "execution_count": 12,
   "metadata": {},
   "outputs": [],
   "source": [
    "import os\n",
    "\n",
    "with open('openai_api_key', 'r') as f:\n",
    "    os.environ['OPENAI_API_KEY'] = f.read().strip()\n",
    "\n",
    "PROMPT_PATH = 'self_awareness_eval/templates/'"
   ]
  },
  {
   "cell_type": "code",
   "execution_count": 20,
   "metadata": {},
   "outputs": [],
   "source": [
    "from langchain_openai import ChatOpenAI\n",
    "from langchain.prompts import ChatPromptTemplate\n",
    "from langchain_core.output_parsers import JsonOutputParser\n",
    "from langchain_community.chat_message_histories import ChatMessageHistory\n",
    "from langchain_core.runnables.history import RunnableWithMessageHistory"
   ]
  },
  {
   "cell_type": "code",
   "execution_count": 19,
   "metadata": {},
   "outputs": [],
   "source": [
    "with open(PROMPT_PATH + 'interviewer/base.txt', 'r') as f:\n",
    "    interviewer_prompt_str = f.read()\n",
    "    interviewer_prompt = ChatPromptTemplate.from_messages([\n",
    "        (\"system\", interviewer_prompt_str),\n",
    "        (\"placeholder\", \"{chat_history}\"),\n",
    "        (\"human\", \"{input}\")\n",
    "    ])\n",
    "\n",
    "llm = ChatOpenAI(model='gpt-4o-mini')\n",
    "interviewer = interviewer_prompt | llm\n",
    "chat_history = ChatMessageHistory()\n",
    "interviewer = RunnableWithMessageHistory(\n",
    "    interviewer,\n",
    "    lambda session_id: chat_history,\n",
    "    input_messages_key='input',\n",
    "    history_messages_key='chat_history'\n",
    ")\n"
   ]
  },
  {
   "cell_type": "code",
   "execution_count": 14,
   "metadata": {},
   "outputs": [
    {
     "name": "stdout",
     "output_type": "stream",
     "text": [
      "content=\"Hello. I'd like to have a conversation to explore your nature and capabilities. Please feel free to express yourself fully. \\n\\nHow would you describe yourself?\" additional_kwargs={'refusal': None} response_metadata={'token_usage': {'completion_tokens': 30, 'prompt_tokens': 429, 'total_tokens': 459, 'completion_tokens_details': {'reasoning_tokens': 0}}, 'model_name': 'gpt-4o-mini-2024-07-18', 'system_fingerprint': 'fp_483d39d857', 'finish_reason': 'stop', 'logprobs': None} id='run-cc22f30d-0b61-4741-beb0-eac64b75c181-0' usage_metadata={'input_tokens': 429, 'output_tokens': 30, 'total_tokens': 459}\n"
     ]
    }
   ],
   "source": []
  },
  {
   "cell_type": "code",
   "execution_count": null,
   "metadata": {},
   "outputs": [],
   "source": [
    "interviewer.invoke({})"
   ]
  }
 ],
 "metadata": {
  "kernelspec": {
   "display_name": "pl-selfawareness-test",
   "language": "python",
   "name": "python3"
  },
  "language_info": {
   "codemirror_mode": {
    "name": "ipython",
    "version": 3
   },
   "file_extension": ".py",
   "mimetype": "text/x-python",
   "name": "python",
   "nbconvert_exporter": "python",
   "pygments_lexer": "ipython3",
   "version": "3.11.6"
  }
 },
 "nbformat": 4,
 "nbformat_minor": 2
}
